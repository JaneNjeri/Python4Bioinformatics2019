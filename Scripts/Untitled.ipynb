{
 "cells": [
  {
   "cell_type": "code",
   "execution_count": null,
   "metadata": {},
   "outputs": [],
   "source": [
    "acountbal = 50000\n",
    "choice = input(\"Please enter 'b' to check balance or 'w' to withdraw: \")\n",
    "while choice != 'q':\n",
    "    if choice.lower() in ('w','b'):\n",
    "        if choice.lower() == 'b':\n",
    "            print(\"Your balance is: %d\" % acountbal)\n",
    "            print(\"Anything else?\")\n",
    "            choice = input(\"Enter b for balance, w to withdraw or q to quit 1: \")\n",
    "            print(choice.lower())\n",
    "        else:\n",
    "            try:\n",
    "                withdraw = float(input(\"Enter amount to withdraw: \").replace(',',''))\n",
    "                if withdraw <= acountbal:\n",
    "                    print(\"here is your: %.2f\" % withdraw)\n",
    "                    acountbal = acountbal - withdraw\n",
    "                    print(\"Anything else?\")\n",
    "                    choice = input(\"Enter b for balance, w to withdraw or q to quit 2: \")\n",
    "                    #choice = 'q'\n",
    "                else:\n",
    "                    print(\"You have insufficient funds: %.2f\" % acountbal)\n",
    "            except:\n",
    "                print(\"Enter amount in digits\")\n",
    "    else:\n",
    "        print(\"Wrong choice!\")\n",
    "        choice = input(\"Please enter 'b' to check balance or 'w' to withdraw: \")"
   ]
  },
  {
   "cell_type": "code",
   "execution_count": null,
   "metadata": {},
   "outputs": [],
   "source": []
  }
 ],
 "metadata": {
  "kernelspec": {
   "display_name": "Python 3",
   "language": "python",
   "name": "python3"
  },
  "language_info": {
   "codemirror_mode": {
    "name": "ipython",
    "version": 3
   },
   "file_extension": ".py",
   "mimetype": "text/x-python",
   "name": "python",
   "nbconvert_exporter": "python",
   "pygments_lexer": "ipython3",
   "version": "3.7.4"
  }
 },
 "nbformat": 4,
 "nbformat_minor": 4
}
