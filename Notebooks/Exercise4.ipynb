{
 "cells": [
  {
   "cell_type": "markdown",
   "metadata": {},
   "source": [
    "## **Example**"
   ]
  },
  {
   "cell_type": "markdown",
   "metadata": {},
   "source": [
    "Write a program to manage bank withdrawals at the ATM\n",
    "\n",
    "In the example below, sometimes the code does not behave as expected in Jupyter Notebook. See the Script bank.py."
   ]
  },
  {
   "cell_type": "code",
   "execution_count": null,
   "metadata": {},
   "outputs": [],
   "source": [
    "acountbal = 50000\n",
    "choice = input(\"Please enter 'b' to check balance or 'w' to withdraw: \")\n",
    "while choice != 'q':\n",
    "    if choice.lower() in ('w','b'):\n",
    "        if choice.lower() == 'b':\n",
    "            print(\"Your balance is: %d\" % acountbal)\n",
    "            print(\"Anything else?\")\n",
    "            choice = input(\"Enter b for balance, w to withdraw or q to quit: \")\n",
    "            print(choice.lower())\n",
    "        else:\n",
    "            withdraw = float(input(\"Enter amount to withdraw: \"))\n",
    "            if withdraw <= acountbal:\n",
    "                print(\"here is your: %.2f\" % withdraw)\n",
    "                acountbal = acountbal - withdraw\n",
    "                print(\"Anything else?\")\n",
    "                choice = input(\"Enter b for balance, w to withdraw, q to quit or d to deposit: \")\n",
    "                #choice = 'q'\n",
    "            else:\n",
    "                print(\"You have insufficient funds: %.2f\" % acountbal)\n",
    "    else:\n",
    "        print(\"Wrong choice!\")\n",
    "        choice = input(\"Please enter 'b' to check balance or 'w' to withdraw: \")"
   ]
  },
  {
   "cell_type": "markdown",
   "metadata": {},
   "source": [
    "## **You turn**\n",
    "\n",
    "Expand the script in the previous cell to also manage ATM deposits\n"
   ]
  },
  {
   "cell_type": "code",
   "execution_count": null,
   "metadata": {},
   "outputs": [
    {
     "name": "stdin",
     "output_type": "stream",
     "text": [
      "Please enter 'b' to check balance, 'w' to withdraw or 'd' to deposit:  d\n"
     ]
    }
   ],
   "source": [
    "acountbal = 50000\n",
    "choice = input(\"Please enter 'b' to check balance, 'w' to withdraw or 'd' to deposit: \")\n",
    "while choice != 'q':\n",
    "    if choice.lower() in ('w','b','d'):\n",
    "        if choice.lower() == 'b':\n",
    "            print(\"Your balance is: %d\" % acountbal)\n",
    "            print(\"Anything else?\")\n",
    "            choice = input(\"Enter b for balance, w to withdraw, d to deposit or q to quit: \")\n",
    "            print(choice.lower())\n",
    "        else:\n",
    "            withdraw = float(input(\"Enter amount to withdraw: \"))\n",
    "            if withdraw <= acountbal:\n",
    "                print(\"here is your: %.2f\" % withdraw)\n",
    "                acountbal = acountbal - withdraw\n",
    "                print(\"Anything else?\")\n",
    "                choice = input(\"Enter b for balance, w to withdraw, d to deposit or q to quit: \")\n",
    "            elif deposit <= acountbal:\n",
    "                print(\"Here is your deposited amount: %d\" % deposit)\n",
    "                acountbal = acountbal + deposit\n",
    "                print(\"Anything else?\")\n",
    "                choice = input(\"Enter b for balance, w to withdraw, d to deposit or q to quit: \")\n",
    "                #choice = 'q'\n",
    "            else:\n",
    "                print(\"You have insufficient funds: %.2f\" % acountbal)\n",
    "    else:\n",
    "        print(\"Wrong choice!\")\n",
    "        choice = input(\"Please enter 'b' to check balance, 'w' to withdraw or 'd' to deposit: \")"
   ]
  },
  {
   "cell_type": "markdown",
   "metadata": {},
   "source": [
    "### **Program to manage ATM deposits**"
   ]
  },
  {
   "cell_type": "code",
   "execution_count": null,
   "metadata": {},
   "outputs": [],
   "source": [
    "Bal = acountbal\n",
    "Min_deposit = 1000\n",
    "option = input(\"Select 'b' to check balance or 'd' to deposit cash: \")\n",
    "while option != 'q':\n",
    "    if option.lower() in ('b','d'):\n",
    "        if option.lower() == 'b':\n",
    "            print(\"Balance is: %.2f\" % Bal)\n",
    "            print(\"More?\")\n",
    "            option = input(\"Select b for balance, d to deposit or q to quit:\")\n",
    "            print(option.lower())\n",
    "        else:\n",
    "            deposit = int(input(\"Enter amount to deposit: \"))\n",
    "            if deposit < Min_deposit:\n",
    "                print(\"Warning: Minimum amount to deposit is one thousand!\")\n",
    "            else:\n",
    "                print(\"Insert your cash to be deposited and press OK: \")\n",
    "                Bal = Bal + deposit\n",
    "                print(\"More?\")\n",
    "                option = input(\"Select b for balance, d to deposit or q to quit: \")\n",
    "    else:\n",
    "        print(\"Invalid option!!\")\n",
    "        option = input(\"Select 'b' to check balance or 'd' to deposit: \")"
   ]
  }
 ],
 "metadata": {
  "kernelspec": {
   "display_name": "Python 3",
   "language": "python",
   "name": "python3"
  },
  "language_info": {
   "codemirror_mode": {
    "name": "ipython",
    "version": 3
   },
   "file_extension": ".py",
   "mimetype": "text/x-python",
   "name": "python",
   "nbconvert_exporter": "python",
   "pygments_lexer": "ipython3",
   "version": "3.7.4"
  }
 },
 "nbformat": 4,
 "nbformat_minor": 4
}
