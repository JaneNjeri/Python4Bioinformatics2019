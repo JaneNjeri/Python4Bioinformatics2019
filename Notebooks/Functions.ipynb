{
 "cells": [
  {
   "cell_type": "markdown",
   "metadata": {},
   "source": [
    "## **Conversion of exercises to functions**"
   ]
  },
  {
   "cell_type": "code",
   "execution_count": 1,
   "metadata": {},
   "outputs": [],
   "source": [
    "def percenAT_GC(seq:str) -> tuple:    \n",
    "    \"\"\" Function calculates percentage AT and GC content, given a DNA sequence. \"\"\"    \n",
    "    A_count=seq.count('A')\n",
    "    C_count=seq.count('C')\n",
    "    G_count=seq.count('G')\n",
    "    T_count=seq.count('T')\n",
    "    perc_GC = (G_count + C_count)/len(dna)*100\n",
    "    perc_AT = (A_count + T_count)/len(dna)*100\n",
    "    \n",
    "    return perc_GC, perc_AT"
   ]
  },
  {
   "cell_type": "code",
   "execution_count": 2,
   "metadata": {},
   "outputs": [],
   "source": [
    "def search_amino (seq:str):\n",
    "    \"\"\" The function finds the first, last and fifth amino acids, given an amino acid sequnce. \"\"\"\n",
    "    for amino in seq:\n",
    "        print(seq[0])\n",
    "        print(seq[-1])\n",
    "        print(seq[4])\n",
    "        break\n",
    "    return"
   ]
  },
  {
   "cell_type": "code",
   "execution_count": 3,
   "metadata": {},
   "outputs": [],
   "source": [
    "def search_restr_site (seq:str):\n",
    "    \"\"\" Function finds specific restriction sites based on index values in a DNA sequence. \"\"\"\n",
    "    print('The restriction site is at index %s' % seq.find('site'))\n",
    "    return"
   ]
  },
  {
   "cell_type": "code",
   "execution_count": 5,
   "metadata": {},
   "outputs": [],
   "source": [
    "def reverse_complement (seq:str):\n",
    "    \"\"\" This function gets the reverse complement of given DNA sequences. \"\"\"\n",
    "    complement = {'A':'T', 'C':'G', 'T':'A', 'G':'C'}\n",
    "    reverse_comp = \"\".join(complement[i] for i in seq[::-1])\n",
    "    \n",
    "    return reverse_comp"
   ]
  },
  {
   "cell_type": "code",
   "execution_count": 6,
   "metadata": {},
   "outputs": [],
   "source": [
    "def percentageGC(seq):\n",
    "    \"\"\" Function calculates percentage GC content of a DNA sequence. \"\"\"\n",
    "    per_gc = ((seq.count('G') + seq.count('C'))) / len(seq)*100         \n",
    "    return (per_gc)"
   ]
  },
  {
   "cell_type": "code",
   "execution_count": 7,
   "metadata": {},
   "outputs": [],
   "source": [
    "def isValidDNA(seq):\n",
    "    \"\"\" Function checks if a DNA sequence is valid or not valid and at which position. \"\"\"\n",
    "    valid_bases = list('ACGT')\n",
    "    valid = True\n",
    "    for base in seq:\n",
    "        if base in valid_bases:\n",
    "            continue\n",
    "        else:\n",
    "            valid = False\n",
    "            print(\"Invalid base %s at position %d\" % (base, seq.find(base)))\n",
    "    return(valid)"
   ]
  },
  {
   "cell_type": "code",
   "execution_count": 9,
   "metadata": {},
   "outputs": [],
   "source": [
    "def percentageGC(seq):\n",
    "    \"\"\" This function calculates percentage GC content for a valid DNA, and outputs validation for an invalid\n",
    "        DNA sequence. \"\"\"\n",
    "    if isValidDNA(seq) == True:\n",
    "        per_gc = ((seq.count('G') + seq.count('C'))) / len(seq)*100\n",
    "        return(per_gc)\n",
    "    else:\n",
    "        print(\"Enter a valid DNA\")\n",
    "        \n",
    "    return per_gc"
   ]
  },
  {
   "cell_type": "code",
   "execution_count": null,
   "metadata": {},
   "outputs": [],
   "source": [
    "def getGeneList():\n",
    "    with open('../Data/humchrx.txt', 'r') as humchr:\n",
    "        tag = False\n",
    "        gene_list = []\n",
    "        for line in humchr:\n",
    "\n",
    "            if line.startswith('Gene'):\n",
    "                tag = True\n",
    "            if tag:\n",
    "                line_split = line.split()\n",
    "                if len(line_split) != 0:\n",
    "                    if '-' in line_split[0]:\n",
    "                        continue\n",
    "                    else:\n",
    "                        gene_list.append(line_split[0])\n",
    "    return gene_list[3:0][:-2]\n",
    "    \n",
    "    \n",
    "clean_gene_list = getGeneList()\n",
    "\n",
    "def writeGeneList(clean_gene_list):\n",
    "    with open('../Data/gene_names.txt', 'w') as gene_names:\n",
    "        for gene in clean_gene_list:\n",
    "            gene_names.writelines(gene+'\\n')\n",
    "        print('Genes have been written succesfully')\n",
    "        \n",
    "writeGeneList(clean_gene_list)"
   ]
  }
 ],
 "metadata": {
  "kernelspec": {
   "display_name": "Python 3",
   "language": "python",
   "name": "python3"
  },
  "language_info": {
   "codemirror_mode": {
    "name": "ipython",
    "version": 3
   },
   "file_extension": ".py",
   "mimetype": "text/x-python",
   "name": "python",
   "nbconvert_exporter": "python",
   "pygments_lexer": "ipython3",
   "version": "3.7.4"
  }
 },
 "nbformat": 4,
 "nbformat_minor": 4
}
