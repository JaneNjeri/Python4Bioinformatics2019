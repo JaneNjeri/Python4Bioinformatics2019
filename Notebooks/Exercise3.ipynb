{
 "cells": [
  {
   "cell_type": "markdown",
   "metadata": {},
   "source": [
    "### **Exercise**"
   ]
  },
  {
   "cell_type": "markdown",
   "metadata": {},
   "source": [
    "- Using strings, lists, tuples and dictionaries concepts, find the reverse complement of AAAAATCCCGAGGCGGCTATATAGGGCTCCGGAGGCGTAATATAAAA"
   ]
  },
  {
   "cell_type": "code",
   "execution_count": 17,
   "metadata": {},
   "outputs": [],
   "source": [
    "DNA = \"AAAAATCCCGAGGCGGCTATATAGGGCTCCGGAGGCGTAATATAAAA\""
   ]
  },
  {
   "cell_type": "code",
   "execution_count": 18,
   "metadata": {},
   "outputs": [
    {
     "data": {
      "text/plain": [
       "'AAAAATCCCGAGGCGGCTATATAGGGCTCCGGAGGCGTAATATAAAA'"
      ]
     },
     "execution_count": 18,
     "metadata": {},
     "output_type": "execute_result"
    }
   ],
   "source": [
    "DNA"
   ]
  },
  {
   "cell_type": "code",
   "execution_count": 19,
   "metadata": {},
   "outputs": [
    {
     "data": {
      "text/plain": [
       "['A',\n",
       " 'A',\n",
       " 'A',\n",
       " 'A',\n",
       " 'A',\n",
       " 'T',\n",
       " 'C',\n",
       " 'C',\n",
       " 'C',\n",
       " 'G',\n",
       " 'A',\n",
       " 'G',\n",
       " 'G',\n",
       " 'C',\n",
       " 'G',\n",
       " 'G',\n",
       " 'C',\n",
       " 'T',\n",
       " 'A',\n",
       " 'T',\n",
       " 'A',\n",
       " 'T',\n",
       " 'A',\n",
       " 'G',\n",
       " 'G',\n",
       " 'G',\n",
       " 'C',\n",
       " 'T',\n",
       " 'C',\n",
       " 'C',\n",
       " 'G',\n",
       " 'G',\n",
       " 'A',\n",
       " 'G',\n",
       " 'G',\n",
       " 'C',\n",
       " 'G',\n",
       " 'T',\n",
       " 'A',\n",
       " 'A',\n",
       " 'T',\n",
       " 'A',\n",
       " 'T',\n",
       " 'A',\n",
       " 'A',\n",
       " 'A',\n",
       " 'A']"
      ]
     },
     "execution_count": 19,
     "metadata": {},
     "output_type": "execute_result"
    }
   ],
   "source": [
    "DNA_lst = list('AAAAATCCCGAGGCGGCTATATAGGGCTCCGGAGGCGTAATATAAAA')\n",
    "DNA_lst"
   ]
  },
  {
   "cell_type": "code",
   "execution_count": 20,
   "metadata": {},
   "outputs": [],
   "source": [
    "DNA_lst.reverse()"
   ]
  },
  {
   "cell_type": "code",
   "execution_count": 21,
   "metadata": {},
   "outputs": [
    {
     "data": {
      "text/plain": [
       "['A',\n",
       " 'A',\n",
       " 'A',\n",
       " 'A',\n",
       " 'T',\n",
       " 'A',\n",
       " 'T',\n",
       " 'A',\n",
       " 'A',\n",
       " 'T',\n",
       " 'G',\n",
       " 'C',\n",
       " 'G',\n",
       " 'G',\n",
       " 'A',\n",
       " 'G',\n",
       " 'G',\n",
       " 'C',\n",
       " 'C',\n",
       " 'T',\n",
       " 'C',\n",
       " 'G',\n",
       " 'G',\n",
       " 'G',\n",
       " 'A',\n",
       " 'T',\n",
       " 'A',\n",
       " 'T',\n",
       " 'A',\n",
       " 'T',\n",
       " 'C',\n",
       " 'G',\n",
       " 'G',\n",
       " 'C',\n",
       " 'G',\n",
       " 'G',\n",
       " 'A',\n",
       " 'G',\n",
       " 'C',\n",
       " 'C',\n",
       " 'C',\n",
       " 'T',\n",
       " 'A',\n",
       " 'A',\n",
       " 'A',\n",
       " 'A',\n",
       " 'A']"
      ]
     },
     "execution_count": 21,
     "metadata": {},
     "output_type": "execute_result"
    }
   ],
   "source": [
    "DNA_lst"
   ]
  },
  {
   "cell_type": "code",
   "execution_count": 22,
   "metadata": {},
   "outputs": [
    {
     "data": {
      "text/plain": [
       "'AAAATATAATGCGGAGGCCTCGGGATATATCGGCGGAGCCCTAAAAA'"
      ]
     },
     "execution_count": 22,
     "metadata": {},
     "output_type": "execute_result"
    }
   ],
   "source": [
    "''.join(DNA_lst)"
   ]
  },
  {
   "cell_type": "code",
   "execution_count": 29,
   "metadata": {},
   "outputs": [],
   "source": [
    "complement = {'A':'T', 'C':'G', 'T':'A', 'G':'C'}"
   ]
  },
  {
   "cell_type": "code",
   "execution_count": 24,
   "metadata": {},
   "outputs": [
    {
     "data": {
      "text/plain": [
       "{'A': 'T', 'C': 'G', 'T': 'A', 'G': 'C'}"
      ]
     },
     "execution_count": 24,
     "metadata": {},
     "output_type": "execute_result"
    }
   ],
   "source": [
    "complement"
   ]
  },
  {
   "cell_type": "code",
   "execution_count": 30,
   "metadata": {},
   "outputs": [
    {
     "name": "stdout",
     "output_type": "stream",
     "text": [
      "TTTTATATTACGCCTCCGGAGCCCTATATAGCCGCCTCGGGATTTTT\n"
     ]
    }
   ],
   "source": [
    "reverse_complement = \"\".join(complement[i] for i in (DNA_lst))   ##use [] when calling the dictionary\n",
    "print(reverse_complement)"
   ]
  },
  {
   "cell_type": "code",
   "execution_count": 117,
   "metadata": {},
   "outputs": [
    {
     "name": "stdout",
     "output_type": "stream",
     "text": [
      "TTTTATATTACGCCTCCGGAGCCCTATATAGCCGCCTCGGGATTTTT\n"
     ]
    }
   ],
   "source": [
    "reverse_comp = \"\".join(complement.get (i) for i in DNA_lst)    ##still works with .get()\n",
    "print(reverse_comp)"
   ]
  },
  {
   "cell_type": "code",
   "execution_count": 33,
   "metadata": {},
   "outputs": [
    {
     "name": "stdout",
     "output_type": "stream",
     "text": [
      "TGAC\n"
     ]
    }
   ],
   "source": [
    "revcomp = []\n",
    "for i in complement:\n",
    "    if i == \"A\":\n",
    "        revcomp.append(\"T\")\n",
    "    if i == \"T\":\n",
    "        revcomp.append(\"A\")\n",
    "    if i == \"C\":\n",
    "        revcomp.append(\"G\")\n",
    "    if i == \"G\":\n",
    "        revcomp.append(\"C\")\n",
    "    \n",
    "print (''.join(revcomp))"
   ]
  },
  {
   "cell_type": "code",
   "execution_count": 46,
   "metadata": {},
   "outputs": [
    {
     "data": {
      "text/plain": [
       "dict_keys(['A', 'C', 'T', 'G'])"
      ]
     },
     "execution_count": 46,
     "metadata": {},
     "output_type": "execute_result"
    }
   ],
   "source": [
    "(complement.keys())"
   ]
  },
  {
   "cell_type": "code",
   "execution_count": null,
   "metadata": {},
   "outputs": [],
   "source": []
  },
  {
   "cell_type": "code",
   "execution_count": 38,
   "metadata": {},
   "outputs": [
    {
     "name": "stdout",
     "output_type": "stream",
     "text": [
      "AAAATATAATGCGGAGGCCTCGGGATATATCGGCGGAGCCCTAAAAA\n"
     ]
    }
   ],
   "source": [
    "## use slicing to reverse\n",
    "\n",
    "reverse_seq = \"AAAAATCCCGAGGCGGCTATATAGGGCTCCGGAGGCGTAATATAAAA\" [::-1]\n",
    "print (reverse_seq)"
   ]
  },
  {
   "cell_type": "code",
   "execution_count": 48,
   "metadata": {},
   "outputs": [
    {
     "name": "stdout",
     "output_type": "stream",
     "text": [
      "Object `lower` not found.\n"
     ]
    }
   ],
   "source": [
    "?lower"
   ]
  },
  {
   "cell_type": "code",
   "execution_count": null,
   "metadata": {},
   "outputs": [],
   "source": []
  }
 ],
 "metadata": {
  "kernelspec": {
   "display_name": "Python 3",
   "language": "python",
   "name": "python3"
  },
  "language_info": {
   "codemirror_mode": {
    "name": "ipython",
    "version": 3
   },
   "file_extension": ".py",
   "mimetype": "text/x-python",
   "name": "python",
   "nbconvert_exporter": "python",
   "pygments_lexer": "ipython3",
   "version": "3.7.4"
  }
 },
 "nbformat": 4,
 "nbformat_minor": 4
}
