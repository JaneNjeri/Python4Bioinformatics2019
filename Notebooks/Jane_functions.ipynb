{
 "cells": [
  {
   "cell_type": "markdown",
   "metadata": {},
   "source": [
    "## **Functions**"
   ]
  },
  {
   "cell_type": "markdown",
   "metadata": {},
   "source": [
    "- def is the keyword\n",
    "- using the return() function, it provides elements to be used in the local from the global."
   ]
  },
  {
   "cell_type": "code",
   "execution_count": 1,
   "metadata": {},
   "outputs": [],
   "source": [
    "names = [\"Jane\", \"Mike\", \"Peter\"]"
   ]
  },
  {
   "cell_type": "code",
   "execution_count": 3,
   "metadata": {},
   "outputs": [],
   "source": []
  },
  {
   "cell_type": "code",
   "execution_count": 19,
   "metadata": {},
   "outputs": [
    {
     "name": "stdout",
     "output_type": "stream",
     "text": [
      "Hello Jane.\n",
      "Jane, how are you?\n",
      "Hello Mike.\n",
      "Mike, how are you?\n",
      "Hello Peter.\n",
      "Peter, how are you?\n"
     ]
    }
   ],
   "source": [
    "def secondfunc(names):\n",
    "    for name in names:\n",
    "        print(\"Hello %s.\" % name)\n",
    "        print(name + ',' ,\"how are you?\")\n",
    "secondfunc(names)"
   ]
  },
  {
   "cell_type": "code",
   "execution_count": null,
   "metadata": {},
   "outputs": [],
   "source": []
  },
  {
   "cell_type": "code",
   "execution_count": 20,
   "metadata": {},
   "outputs": [
    {
     "name": "stdout",
     "output_type": "stream",
     "text": [
      "Hello Jane.\n",
      "Jane, how are you?\n",
      "Hello Mike.\n",
      "Mike, how are you?\n",
      "Hello Peter.\n",
      "Peter, how are you?\n",
      "Hello Jane.\n",
      "Jane, how are you?\n",
      "Hello Mike.\n",
      "Mike, how are you?\n",
      "Hello Peter.\n",
      "Peter, how are you?\n",
      "Hello Jane.\n",
      "Jane, how are you?\n",
      "Hello Mike.\n",
      "Mike, how are you?\n",
      "Hello Peter.\n",
      "Peter, how are you?\n"
     ]
    }
   ],
   "source": [
    "for name in names:\n",
    "    secondfunc(names)"
   ]
  },
  {
   "cell_type": "code",
   "execution_count": null,
   "metadata": {},
   "outputs": [],
   "source": []
  },
  {
   "cell_type": "code",
   "execution_count": null,
   "metadata": {},
   "outputs": [],
   "source": []
  },
  {
   "cell_type": "code",
   "execution_count": null,
   "metadata": {},
   "outputs": [],
   "source": [
    "?def"
   ]
  }
 ],
 "metadata": {
  "kernelspec": {
   "display_name": "Python 3",
   "language": "python",
   "name": "python3"
  },
  "language_info": {
   "codemirror_mode": {
    "name": "ipython",
    "version": 3
   },
   "file_extension": ".py",
   "mimetype": "text/x-python",
   "name": "python",
   "nbconvert_exporter": "python",
   "pygments_lexer": "ipython3",
   "version": "3.7.4"
  }
 },
 "nbformat": 4,
 "nbformat_minor": 4
}
