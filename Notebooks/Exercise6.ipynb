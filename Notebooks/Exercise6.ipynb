{
 "cells": [
  {
   "cell_type": "markdown",
   "metadata": {},
   "source": [
    "## **Exercise**\n",
    "\n",
    "Let's return to our earlier exercise: calculating %GC content. In this exercise:\n",
    "\n",
    " 1. Write a function `percentageGC` that calculates the GC content of a DNA sequence\n",
    " 2. The function should return the %GC content\n",
    " 3. The Function should return a message if the provided sequence is not DNA (This should be checked by a    different function, called by your function)\n",
    "\n"
   ]
  },
  {
   "cell_type": "code",
   "execution_count": 5,
   "metadata": {},
   "outputs": [],
   "source": [
    "DNA = \"CAGTGATGATGACGAT\"\n",
    "Other_DNA = \"ACGATCGAGACGTAGTA\"\n",
    "testdna = \"ATFRACGATTGHAHYAK\""
   ]
  },
  {
   "cell_type": "code",
   "execution_count": 13,
   "metadata": {},
   "outputs": [],
   "source": [
    "def percentageGC(seq):\n",
    "    per_gc = ((seq.count('G') + seq.count('C'))) / len(seq)*100             \n",
    "    return (per_gc)"
   ]
  },
  {
   "cell_type": "code",
   "execution_count": 3,
   "metadata": {},
   "outputs": [
    {
     "data": {
      "text/plain": [
       "43.75"
      ]
     },
     "execution_count": 3,
     "metadata": {},
     "output_type": "execute_result"
    }
   ],
   "source": [
    "percentageGC(DNA)"
   ]
  },
  {
   "cell_type": "code",
   "execution_count": 4,
   "metadata": {},
   "outputs": [],
   "source": [
    "#g_count = dna_seq.count('G')\n",
    "#c_count = dna_seq.count('C')\n",
    "#return (g_count + c_count)/len(dna_seq)*100"
   ]
  },
  {
   "cell_type": "code",
   "execution_count": 5,
   "metadata": {},
   "outputs": [],
   "source": [
    "DNA = \"CAGTGATGATGACGAT\"\n",
    "valid_bases = list('ACGT')\n",
    "\n",
    "for base in DNA:\n",
    "    if base in valid_bases:\n",
    "        continue\n",
    "    else:\n",
    "        print(\"Invalid DNA\")\n",
    "        break"
   ]
  },
  {
   "cell_type": "code",
   "execution_count": null,
   "metadata": {},
   "outputs": [],
   "source": []
  },
  {
   "cell_type": "code",
   "execution_count": 6,
   "metadata": {},
   "outputs": [],
   "source": [
    "def isValidDNA(dna_seq):\n",
    "    valid_bases = list('ACGT')\n",
    "    valid = True\n",
    "    for base in dna_seq:\n",
    "        if base in valid_bases:\n",
    "            continue\n",
    "        else:\n",
    "            valid = False\n",
    "            #print(dna_seq)\n",
    "            print(\"Invalid base %s at position %d\" % (base, dna_seq.find(base)))\n",
    "            #print(input(\"Invalid DNA: Enter valid DNA\"))\n",
    "            #break\n",
    "    return(valid)"
   ]
  },
  {
   "cell_type": "code",
   "execution_count": 7,
   "metadata": {},
   "outputs": [
    {
     "data": {
      "text/plain": [
       "True"
      ]
     },
     "execution_count": 7,
     "metadata": {},
     "output_type": "execute_result"
    }
   ],
   "source": [
    "isValidDNA(DNA)"
   ]
  },
  {
   "cell_type": "code",
   "execution_count": 8,
   "metadata": {},
   "outputs": [
    {
     "name": "stdout",
     "output_type": "stream",
     "text": [
      "Invalid base F at position 2\n",
      "Invalid base R at position 3\n",
      "Invalid base H at position 11\n",
      "Invalid base H at position 11\n",
      "Invalid base Y at position 14\n",
      "Invalid base K at position 16\n",
      "Enter valid DNA sequence\n"
     ]
    }
   ],
   "source": [
    "if isValidDNA(testdna)==True:\n",
    "    print(percentageGC(testdna))\n",
    "else:\n",
    "    print(\"Enter valid DNA sequence\")\n",
    "\n",
    "#def percentageGC(seq):\n",
    "    #if isValidDNA(seq) == True:\n",
    "        #per_gc = ((seq.count('G') + seq.count('C'))) / len(seq)*100\n",
    "    #else:\n",
    "        #print(\"enter a valid DNA\")\n",
    "    #return (per_gc)\n"
   ]
  },
  {
   "cell_type": "code",
   "execution_count": 12,
   "metadata": {},
   "outputs": [
    {
     "name": "stdout",
     "output_type": "stream",
     "text": [
      "Invalid base F at position 2\n",
      "Invalid base R at position 3\n",
      "Invalid base H at position 11\n",
      "Invalid base H at position 11\n",
      "Invalid base Y at position 14\n",
      "Invalid base K at position 16\n",
      "Enter a valid DNA\n"
     ]
    }
   ],
   "source": [
    "percentageGC(testdna)"
   ]
  },
  {
   "cell_type": "code",
   "execution_count": 10,
   "metadata": {},
   "outputs": [],
   "source": [
    "def percentageGC(seq):\n",
    "    if isValidDNA(seq) == True:\n",
    "        per_gc = ((seq.count('G') + seq.count('C'))) / len(seq)*100\n",
    "        return(per_gc)\n",
    "\n",
    "    else:\n",
    "        print(\"Enter a valid DNA\")"
   ]
  },
  {
   "cell_type": "code",
   "execution_count": 14,
   "metadata": {},
   "outputs": [
    {
     "data": {
      "text/plain": [
       "43.75"
      ]
     },
     "execution_count": 14,
     "metadata": {},
     "output_type": "execute_result"
    }
   ],
   "source": [
    "percentageGC(DNA)"
   ]
  },
  {
   "cell_type": "code",
   "execution_count": 8,
   "metadata": {},
   "outputs": [],
   "source": [
    "#def percentageGCcontent(seq):\n",
    "    #GC_count = seq.count('G') + seq.count('C')\n",
    "    #GC_content = float(GC_count) / len(seq)\n",
    "    #return(100 * GC_content)"
   ]
  },
  {
   "cell_type": "code",
   "execution_count": 14,
   "metadata": {},
   "outputs": [],
   "source": [
    "dna = \"ACGTCGTANBHACT\"\n",
    "valid_base = \"ATCG\"\n",
    "\n",
    "def dnafunc(sequence):\n",
    "    if base in sequence:\n",
    "        print(\"Valid DNA\")\n",
    "    else:\n",
    "        print(\"Invalid DNA\")"
   ]
  },
  {
   "cell_type": "code",
   "execution_count": 15,
   "metadata": {},
   "outputs": [
    {
     "name": "stdout",
     "output_type": "stream",
     "text": [
      "Invalid DNA\n"
     ]
    }
   ],
   "source": [
    "dnafunc(dna)"
   ]
  },
  {
   "cell_type": "code",
   "execution_count": null,
   "metadata": {},
   "outputs": [],
   "source": [
    "#g_count = dna_seq.count('G')\n",
    "#c_count = dna_seq.count('C')\n",
    "#return (g_count + c_count)/len(dna_seq)*100"
   ]
  },
  {
   "cell_type": "code",
   "execution_count": 5,
   "metadata": {},
   "outputs": [
    {
     "ename": "NameError",
     "evalue": "name 'seq' is not defined",
     "output_type": "error",
     "traceback": [
      "\u001b[0;31m---------------------------------------------------------------------------\u001b[0m",
      "\u001b[0;31mNameError\u001b[0m                                 Traceback (most recent call last)",
      "\u001b[0;32m<ipython-input-5-3ebd9b1ad7fa>\u001b[0m in \u001b[0;36m<module>\u001b[0;34m\u001b[0m\n\u001b[1;32m     18\u001b[0m \u001b[0;34m\u001b[0m\u001b[0m\n\u001b[1;32m     19\u001b[0m \u001b[0;34m\u001b[0m\u001b[0m\n\u001b[0;32m---> 20\u001b[0;31m \u001b[0;32mif\u001b[0m \u001b[0misValidDNA\u001b[0m\u001b[0;34m(\u001b[0m\u001b[0mseq\u001b[0m\u001b[0;34m)\u001b[0m\u001b[0;34m==\u001b[0m\u001b[0;32mTrue\u001b[0m\u001b[0;34m:\u001b[0m\u001b[0;34m\u001b[0m\u001b[0;34m\u001b[0m\u001b[0m\n\u001b[0m\u001b[1;32m     21\u001b[0m     \u001b[0mprint\u001b[0m\u001b[0;34m(\u001b[0m\u001b[0mpercentageGC\u001b[0m\u001b[0;34m(\u001b[0m\u001b[0mseq\u001b[0m\u001b[0;34m)\u001b[0m\u001b[0;34m)\u001b[0m\u001b[0;34m\u001b[0m\u001b[0;34m\u001b[0m\u001b[0m\n\u001b[1;32m     22\u001b[0m \u001b[0;32melse\u001b[0m\u001b[0;34m:\u001b[0m\u001b[0;34m\u001b[0m\u001b[0;34m\u001b[0m\u001b[0m\n",
      "\u001b[0;31mNameError\u001b[0m: name 'seq' is not defined"
     ]
    }
   ],
   "source": [
    "### COMBO\n",
    "\n",
    "##calculate %GC content\n",
    "def percentageGC(seq:str):\n",
    "    isValidDNA\n",
    "    per_gc = ((seq.count('G') + seq.count('C'))) / len(seq)*100         \n",
    "    return (per_gc)\n",
    "\n",
    "def isValidDNA(seq:str):\n",
    "    valid_bases = list('ACGT')\n",
    "    valid = True\n",
    "    for base in seq:\n",
    "        if base in valid_bases:\n",
    "            continue\n",
    "        else:\n",
    "            valid = False\n",
    "            print(\"Invalid base %s at position %d\" % (base, seq.find(base)))\n",
    "    return(valid)   \n",
    "\n",
    "\n",
    "if isValidDNA(seq)==True:\n",
    "    print(percentageGC(seq))\n",
    "else:\n",
    "    print(\"Enter valid DNA sequence\")\n",
    "    \n",
    "##combined functions   \n",
    "def percentageGC(seq):\n",
    "    if isValidDNA(seq) == True:\n",
    "        per_gc = ((seq.count('G') + seq.count('C'))) / len(seq)*100\n",
    "        return(per_gc)\n",
    "\n",
    "    else:\n",
    "        print(\"Enter a valid DNA\")"
   ]
  },
  {
   "cell_type": "code",
   "execution_count": 1,
   "metadata": {},
   "outputs": [],
   "source": [
    "#def percentageGC(seq):\n",
    "    #per_gc = ((seq.count('G') + seq.count('C'))) / len(seq)*100         \n",
    "    #return (per_gc)\n",
    "\n",
    "    #valid_base = \"ATCG\"\n",
    "\n",
    "    #def dnafunc(seq):\n",
    "        #if base in seq:\n",
    "           # print(\"Valid DNA\")\n",
    "        #else:\n",
    "           # print(\"Invalid DNA\")"
   ]
  }
 ],
 "metadata": {
  "kernelspec": {
   "display_name": "Python 3",
   "language": "python",
   "name": "python3"
  },
  "language_info": {
   "codemirror_mode": {
    "name": "ipython",
    "version": 3
   },
   "file_extension": ".py",
   "mimetype": "text/x-python",
   "name": "python",
   "nbconvert_exporter": "python",
   "pygments_lexer": "ipython3",
   "version": "3.7.4"
  }
 },
 "nbformat": 4,
 "nbformat_minor": 4
}
