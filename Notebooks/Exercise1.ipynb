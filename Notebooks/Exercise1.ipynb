{
 "cells": [
  {
   "cell_type": "markdown",
   "metadata": {},
   "source": [
    "## **Exercise**"
   ]
  },
  {
   "cell_type": "code",
   "execution_count": 2,
   "metadata": {},
   "outputs": [
    {
     "name": "stdout",
     "output_type": "stream",
     "text": [
      "The length of the sequence is 69 nucleotides\n",
      "There are 21 'G's but only 9 C's in the sequence\n",
      "The \"ATTAA\" motif is at index 14\n"
     ]
    }
   ],
   "source": [
    "trna='AAGGGCTTAGCTTAATTAAAGTGGCTGATTTGCGTTCAGTTGATGCAGAGTGGGGTTTTGCAGTCCTTA'\n",
    "print(\"The length of the sequence is %i\" % len(trna),\"nucleotides\") # len() gives length\n",
    "\n",
    "#count strings\n",
    "print(\"There are %d 'G's but only %d C's in the sequence\" % (trna.count('G'),trna.count('C')))\n",
    "print('The \"ATTAA\" motif is at index',trna.find('ATTAA')) #index from 0 or -1"
   ]
  },
  {
   "cell_type": "markdown",
   "metadata": {},
   "source": [
    "#### **Calculate the % GC and % AT content in the trna sequence**"
   ]
  },
  {
   "cell_type": "code",
   "execution_count": 4,
   "metadata": {},
   "outputs": [
    {
     "name": "stdout",
     "output_type": "stream",
     "text": [
      "43.47826086956522\n",
      "56.52173913043478\n"
     ]
    }
   ],
   "source": [
    "A_count=trna.count('A')\n",
    "C_count=trna.count('C')\n",
    "G_count=trna.count('G')\n",
    "T_count=trna.count('T')\n",
    "\n",
    "perc_GC = (G_count + C_count) / len(trna)*100\n",
    "print(perc_GC)\n",
    "perc_AT = (A_count + T_count) / len(trna)*100\n",
    "print(perc_AT)"
   ]
  },
  {
   "cell_type": "code",
   "execution_count": 51,
   "metadata": {},
   "outputs": [],
   "source": [
    "def percenAT_GC(seq:str) -> tuple:    \n",
    "    \"\"\" Function calculates AT and GC content, given a DNA sequence \"\"\"    \n",
    "    A_count=seq.count('A')\n",
    "    C_count=seq.count('C')\n",
    "    G_count=seq.count('G')\n",
    "    T_count=seq.count('T')\n",
    "    perc_GC = (G_count + C_count)/len(dna)*100\n",
    "    perc_AT = (A_count + T_count)/len(dna)*100\n",
    "    \n",
    "    return perc_GC, perc_AT"
   ]
  },
  {
   "cell_type": "code",
   "execution_count": 52,
   "metadata": {},
   "outputs": [
    {
     "data": {
      "text/plain": [
       "tuple"
      ]
     },
     "execution_count": 52,
     "metadata": {},
     "output_type": "execute_result"
    }
   ],
   "source": [
    "type(percenAT_GC(trna))"
   ]
  },
  {
   "cell_type": "code",
   "execution_count": null,
   "metadata": {},
   "outputs": [],
   "source": []
  }
 ],
 "metadata": {
  "kernelspec": {
   "display_name": "Python 3",
   "language": "python",
   "name": "python3"
  },
  "language_info": {
   "codemirror_mode": {
    "name": "ipython",
    "version": 3
   },
   "file_extension": ".py",
   "mimetype": "text/x-python",
   "name": "python",
   "nbconvert_exporter": "python",
   "pygments_lexer": "ipython3",
   "version": "3.7.4"
  }
 },
 "nbformat": 4,
 "nbformat_minor": 4
}
