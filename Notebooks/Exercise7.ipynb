{
 "cells": [
  {
   "cell_type": "markdown",
   "metadata": {},
   "source": [
    "### **Exercise 1**\n",
    "\n",
    "Write a function the reads the file (humchr.txt) and writes to another file (gene_names.txt) a clean list of gene names."
   ]
  },
  {
   "cell_type": "code",
   "execution_count": null,
   "metadata": {},
   "outputs": [],
   "source": [
    "humchr.seek(0)\n",
    "tag = False\n",
    "for line in humchr:\n",
    "    if line.startswith('Gene'):\n",
    "        tag = True\n",
    "        if tag:\n",
    "            print(line.split()[0])"
   ]
  },
  {
   "cell_type": "code",
   "execution_count": null,
   "metadata": {},
   "outputs": [],
   "source": [
    "humchr = open('../Data/humchrx.txt', 'r')"
   ]
  },
  {
   "cell_type": "code",
   "execution_count": null,
   "metadata": {},
   "outputs": [],
   "source": [
    "def getGeneList():\n",
    "    \"\"\" This function reads a file extracting a column of gene ascession. \"\"\"\n",
    "    with open('../Data/humchrx.txt', 'r') as humchr:\n",
    "        tag = False\n",
    "        gene_list = []\n",
    "        for line in humchr:\n",
    "            if line.startswith('Gene'):\n",
    "                tag = True\n",
    "            if tag:\n",
    "                line_split = line.split()\n",
    "                if len(line_split) != 0:\n",
    "                    if '-' in line_split[0]:\n",
    "                        continue\n",
    "                    else:\n",
    "                        gene_list.append(line_split[0])\n",
    "    return gene_list[3:][:-2]"
   ]
  },
  {
   "cell_type": "code",
   "execution_count": null,
   "metadata": {},
   "outputs": [],
   "source": [
    "clean_gene_list = getGeneList()"
   ]
  },
  {
   "cell_type": "code",
   "execution_count": null,
   "metadata": {},
   "outputs": [],
   "source": [
    "def writeGeneList(clean_gene_list):\n",
    "    \"\"\" This function writes to another file, a list of cleaned genes. \"\"\"\n",
    "    with open('../Data/gene_names.txt', 'w') as gene_names:\n",
    "        for gene in clean_gene_list:\n",
    "            gene_names.writelines(gene+'\\n')\n",
    "        print('Genes have been written succesfully')\n",
    "writeGeneList(clean_gene_list)        "
   ]
  },
  {
   "cell_type": "markdown",
   "metadata": {},
   "source": [
    "### **Exercise 2**\n",
    "\n",
    "1. Convert the function you wrote in exercise 1 into a python module. Then, import the module and use the function to read humchrx.txt file and create a gene list file.\n",
    "2. Create a stand-alone script that does all the above."
   ]
  },
  {
   "cell_type": "code",
   "execution_count": 2,
   "metadata": {},
   "outputs": [
    {
     "ename": "ModuleNotFoundError",
     "evalue": "No module named 'write_genelist'",
     "output_type": "error",
     "traceback": [
      "\u001b[0;31m---------------------------------------------------------------------------\u001b[0m",
      "\u001b[0;31mModuleNotFoundError\u001b[0m                       Traceback (most recent call last)",
      "\u001b[0;32m<ipython-input-2-beb973a62a5b>\u001b[0m in \u001b[0;36m<module>\u001b[0;34m\u001b[0m\n\u001b[0;32m----> 1\u001b[0;31m \u001b[0;32mimport\u001b[0m \u001b[0mwrite_genelist\u001b[0m\u001b[0;34m.\u001b[0m\u001b[0mpy\u001b[0m\u001b[0;34m\u001b[0m\u001b[0;34m\u001b[0m\u001b[0m\n\u001b[0m",
      "\u001b[0;31mModuleNotFoundError\u001b[0m: No module named 'write_genelist'"
     ]
    }
   ],
   "source": [
    "import write_genelist.py"
   ]
  },
  {
   "cell_type": "markdown",
   "metadata": {},
   "source": [
    "### **Exercise 3**\n",
    "\n",
    "- Using the same concept, convert your script in exercise 1 to take command line arguments (input and output    files)\n",
    "- Using a DNA sequence read from file, answer the following questions:\n",
    "    1. Show that the DNA string contains only four letters.\n",
    "    2. In the DNA string there are regions that have a repeating letter. What is the letter and length of the longest repeating region?\n",
    "    3. How many ’ATG’s are in the DNA string?\n"
   ]
  },
  {
   "cell_type": "code",
   "execution_count": 1,
   "metadata": {},
   "outputs": [
    {
     "data": {
      "text/plain": [
       "{'A', 'C', 'G', 'T'}"
      ]
     },
     "execution_count": 1,
     "metadata": {},
     "output_type": "execute_result"
    }
   ],
   "source": [
    "set('ACGTCAGTGCAGTCAGT')"
   ]
  },
  {
   "cell_type": "code",
   "execution_count": 2,
   "metadata": {},
   "outputs": [
    {
     "data": {
      "text/plain": [
       "4"
      ]
     },
     "execution_count": 2,
     "metadata": {},
     "output_type": "execute_result"
    }
   ],
   "source": [
    "len(set('ACGTCAGTGCAGTCAGT'))"
   ]
  },
  {
   "cell_type": "code",
   "execution_count": 1,
   "metadata": {},
   "outputs": [],
   "source": [
    "dan_dict = {'A':0, 'C':0, 'G':0,'T':0}"
   ]
  },
  {
   "cell_type": "code",
   "execution_count": 5,
   "metadata": {},
   "outputs": [],
   "source": [
    "for dna in 'ACGTCAGTGCAGTCAGT':\n",
    "    dan_dict[dna] = dan_dict[dna]+1\n",
    "    print "
   ]
  },
  {
   "cell_type": "code",
   "execution_count": 5,
   "metadata": {},
   "outputs": [],
   "source": [
    "nucs = set('ACGTCAGTGCAGTCAGT')"
   ]
  },
  {
   "cell_type": "code",
   "execution_count": 6,
   "metadata": {},
   "outputs": [
    {
     "name": "stdout",
     "output_type": "stream",
     "text": [
      "C is the longest repeating letter, repeats 21 times\n"
     ]
    }
   ],
   "source": [
    "A_list = []\n",
    "tag = False\n",
    "As = []\n",
    "for nuc in nucs:\n",
    "    for dna in 'ACGTCAGTGCCCCCCCCCCCCCCCCCCCCCAGTCAGTTTTTAAAAAG':\n",
    "        if dna == nuc:\n",
    "            tag = True\n",
    "            As.append(dna)\n",
    "        else:\n",
    "            if len(As) > 1:\n",
    "                A_list.append(As)\n",
    "            As = []\n",
    "            tag = False\n",
    "            \n",
    "len_list = [len(x) for x in A_list]\n",
    "long_index = len_list.index(max(len_list))\n",
    "print(\"%s is the longest repeating letter, repeats %d times\" % (\n",
    "    A_list[long_index][0], len(A_list[long_index])))"
   ]
  },
  {
   "cell_type": "code",
   "execution_count": 11,
   "metadata": {},
   "outputs": [
    {
     "data": {
      "text/plain": [
       "[['C',\n",
       "  'C',\n",
       "  'C',\n",
       "  'C',\n",
       "  'C',\n",
       "  'C',\n",
       "  'C',\n",
       "  'C',\n",
       "  'C',\n",
       "  'C',\n",
       "  'C',\n",
       "  'C',\n",
       "  'C',\n",
       "  'C',\n",
       "  'C',\n",
       "  'C',\n",
       "  'C',\n",
       "  'C',\n",
       "  'C',\n",
       "  'C',\n",
       "  'C'],\n",
       " ['G', 'A'],\n",
       " ['A', 'A', 'A', 'A', 'A'],\n",
       " ['T', 'T', 'T', 'T', 'T']]"
      ]
     },
     "execution_count": 11,
     "metadata": {},
     "output_type": "execute_result"
    }
   ],
   "source": [
    "A_list"
   ]
  },
  {
   "cell_type": "code",
   "execution_count": 1,
   "metadata": {},
   "outputs": [],
   "source": [
    "def find_ATG(seq):\n",
    "    \"\"\" Function finds 'ATG' in a given sequence \"\"\"\n",
    "    DNA=input('DNA seq:\\n')\n",
    "    start=0\n",
    "    while DNA.find('ATG',start) !=-1:\n",
    "        found=DNA.find('ATG',start)\n",
    "        start=found+1\n",
    "        print(found)\n",
    "    return seq"
   ]
  },
  {
   "cell_type": "code",
   "execution_count": null,
   "metadata": {},
   "outputs": [],
   "source": []
  }
 ],
 "metadata": {
  "kernelspec": {
   "display_name": "Python 3",
   "language": "python",
   "name": "python3"
  },
  "language_info": {
   "codemirror_mode": {
    "name": "ipython",
    "version": 3
   },
   "file_extension": ".py",
   "mimetype": "text/x-python",
   "name": "python",
   "nbconvert_exporter": "python",
   "pygments_lexer": "ipython3",
   "version": "3.7.4"
  }
 },
 "nbformat": 4,
 "nbformat_minor": 4
}
